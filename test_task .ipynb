{
 "nbformat": 4,
 "nbformat_minor": 0,
 "metadata": {
  "colab": {
   "provenance": []
  },
  "kernelspec": {
   "name": "python3",
   "display_name": "Python 3"
  },
  "language_info": {
   "name": "python"
  }
 },
 "cells": [
  {
   "cell_type": "code",
   "execution_count": 14,
   "metadata": {
    "id": "iXkQerS-5Tkl"
   },
   "outputs": [],
   "source": [
    "import pandas as pd\n",
    "import seaborn as sns\n",
    "import matplotlib.pyplot as plt\n",
    "import numpy as np\n",
    "import pickle\n",
    "from sklearn import preprocessing\n",
    "from sklearn.model_selection import train_test_split\n",
    "from sklearn.metrics import r2_score\n",
    "from sklearn.metrics import mean_squared_error\n",
    "from xgboost import XGBRegressor\n",
    "from sklearn.model_selection import RandomizedSearchCV\n",
    "from tensorflow import keras\n",
    "from keras.models import Sequential\n",
    "from keras.layers import Dense\n",
    "from tensorflow.keras.optimizers import Adam"
   ]
  },
  {
   "cell_type": "code",
   "source": [
    "train_data = pd.read_csv(\"/content/drive/MyDrive/data/restaurant-revenue-prediction.zip (Unzipped Files)/train.csv.zip\")\n",
    "test_data = pd.read_csv(\"/content/drive/MyDrive/data/restaurant-revenue-prediction.zip (Unzipped Files)/test.csv.zip\")"
   ],
   "metadata": {
    "id": "B_hhDL0y7ul3"
   },
   "execution_count": 15,
   "outputs": []
  },
  {
   "cell_type": "code",
   "source": [
    "label_encoder = preprocessing.LabelEncoder()\n",
    "l = [i for i in train_data.columns if train_data[i].dtype=='object']\n",
    "la = [i for i in test_data.columns if test_data[i].dtype=='object']\n",
    "for i in l:\n",
    "  train_data[i]= label_encoder.fit_transform(train_data[i])\n",
    "for i in la:\n",
    "  test_data[i]= label_encoder.fit_transform(test_data[i])"
   ],
   "metadata": {
    "id": "3YIyvgN6jefu"
   },
   "execution_count": 16,
   "outputs": []
  },
  {
   "cell_type": "code",
   "source": [
    "train_data.describe()"
   ],
   "metadata": {
    "colab": {
     "base_uri": "https://localhost:8080/",
     "height": 367
    },
    "id": "9pisaHS5oTPk",
    "outputId": "0ab595a7-4b62-42b8-8997-129566b67378"
   },
   "execution_count": 17,
   "outputs": [
    {
     "output_type": "execute_result",
     "data": {
      "text/plain": [
       "               Id   Open Date        City  City Group        Type          P1  \\\n",
       "count  137.000000  137.000000  137.000000  137.000000  137.000000  137.000000   \n",
       "mean    68.000000   65.248175   20.627737    0.430657    1.430657    4.014599   \n",
       "std     39.692569   39.315425   11.819729    0.496985    0.511567    2.910391   \n",
       "min      0.000000    0.000000    0.000000    0.000000    0.000000    1.000000   \n",
       "25%     34.000000   31.000000    8.000000    0.000000    1.000000    2.000000   \n",
       "50%     68.000000   65.000000   26.000000    0.000000    1.000000    3.000000   \n",
       "75%    102.000000   99.000000   31.000000    1.000000    2.000000    4.000000   \n",
       "max    136.000000  133.000000   33.000000    1.000000    2.000000   12.000000   \n",
       "\n",
       "               P2          P3          P4          P5  ...         P29  \\\n",
       "count  137.000000  137.000000  137.000000  137.000000  ...  137.000000   \n",
       "mean     4.408759    4.317518    4.372263    2.007299  ...    3.135036   \n",
       "std      1.514900    1.032337    1.016462    1.209620  ...    1.680887   \n",
       "min      1.000000    0.000000    3.000000    1.000000  ...    0.000000   \n",
       "25%      4.000000    4.000000    4.000000    1.000000  ...    2.500000   \n",
       "50%      5.000000    4.000000    4.000000    2.000000  ...    3.000000   \n",
       "75%      5.000000    5.000000    5.000000    2.000000  ...    3.000000   \n",
       "max      7.500000    7.500000    7.500000    8.000000  ...    7.500000   \n",
       "\n",
       "              P30         P31         P32         P33         P34         P35  \\\n",
       "count  137.000000  137.000000  137.000000  137.000000  137.000000  137.000000   \n",
       "mean     2.729927    1.941606    2.525547    1.138686    2.489051    2.029197   \n",
       "std      5.536647    3.512093    5.230117    1.698540    5.165093    3.436272   \n",
       "min      0.000000    0.000000    0.000000    0.000000    0.000000    0.000000   \n",
       "25%      0.000000    0.000000    0.000000    0.000000    0.000000    0.000000   \n",
       "50%      0.000000    0.000000    0.000000    0.000000    0.000000    0.000000   \n",
       "75%      4.000000    3.000000    3.000000    2.000000    3.000000    4.000000   \n",
       "max     25.000000   15.000000   25.000000    6.000000   24.000000   15.000000   \n",
       "\n",
       "              P36         P37       revenue  \n",
       "count  137.000000  137.000000  1.370000e+02  \n",
       "mean     2.211679    1.116788  4.453533e+06  \n",
       "std      4.168211    1.790768  2.576072e+06  \n",
       "min      0.000000    0.000000  1.149870e+06  \n",
       "25%      0.000000    0.000000  2.999068e+06  \n",
       "50%      0.000000    0.000000  3.939804e+06  \n",
       "75%      3.000000    2.000000  5.166635e+06  \n",
       "max     20.000000    8.000000  1.969694e+07  \n",
       "\n",
       "[8 rows x 43 columns]"
      ],
      "text/html": [
       "\n",
       "  <div id=\"df-725caf27-4fda-4ae6-9aab-c9e5c7d14ad1\" class=\"colab-df-container\">\n",
       "    <div>\n",
       "<style scoped>\n",
       "    .dataframe tbody tr th:only-of-type {\n",
       "        vertical-align: middle;\n",
       "    }\n",
       "\n",
       "    .dataframe tbody tr th {\n",
       "        vertical-align: top;\n",
       "    }\n",
       "\n",
       "    .dataframe thead th {\n",
       "        text-align: right;\n",
       "    }\n",
       "</style>\n",
       "<table border=\"1\" class=\"dataframe\">\n",
       "  <thead>\n",
       "    <tr style=\"text-align: right;\">\n",
       "      <th></th>\n",
       "      <th>Id</th>\n",
       "      <th>Open Date</th>\n",
       "      <th>City</th>\n",
       "      <th>City Group</th>\n",
       "      <th>Type</th>\n",
       "      <th>P1</th>\n",
       "      <th>P2</th>\n",
       "      <th>P3</th>\n",
       "      <th>P4</th>\n",
       "      <th>P5</th>\n",
       "      <th>...</th>\n",
       "      <th>P29</th>\n",
       "      <th>P30</th>\n",
       "      <th>P31</th>\n",
       "      <th>P32</th>\n",
       "      <th>P33</th>\n",
       "      <th>P34</th>\n",
       "      <th>P35</th>\n",
       "      <th>P36</th>\n",
       "      <th>P37</th>\n",
       "      <th>revenue</th>\n",
       "    </tr>\n",
       "  </thead>\n",
       "  <tbody>\n",
       "    <tr>\n",
       "      <th>count</th>\n",
       "      <td>137.000000</td>\n",
       "      <td>137.000000</td>\n",
       "      <td>137.000000</td>\n",
       "      <td>137.000000</td>\n",
       "      <td>137.000000</td>\n",
       "      <td>137.000000</td>\n",
       "      <td>137.000000</td>\n",
       "      <td>137.000000</td>\n",
       "      <td>137.000000</td>\n",
       "      <td>137.000000</td>\n",
       "      <td>...</td>\n",
       "      <td>137.000000</td>\n",
       "      <td>137.000000</td>\n",
       "      <td>137.000000</td>\n",
       "      <td>137.000000</td>\n",
       "      <td>137.000000</td>\n",
       "      <td>137.000000</td>\n",
       "      <td>137.000000</td>\n",
       "      <td>137.000000</td>\n",
       "      <td>137.000000</td>\n",
       "      <td>1.370000e+02</td>\n",
       "    </tr>\n",
       "    <tr>\n",
       "      <th>mean</th>\n",
       "      <td>68.000000</td>\n",
       "      <td>65.248175</td>\n",
       "      <td>20.627737</td>\n",
       "      <td>0.430657</td>\n",
       "      <td>1.430657</td>\n",
       "      <td>4.014599</td>\n",
       "      <td>4.408759</td>\n",
       "      <td>4.317518</td>\n",
       "      <td>4.372263</td>\n",
       "      <td>2.007299</td>\n",
       "      <td>...</td>\n",
       "      <td>3.135036</td>\n",
       "      <td>2.729927</td>\n",
       "      <td>1.941606</td>\n",
       "      <td>2.525547</td>\n",
       "      <td>1.138686</td>\n",
       "      <td>2.489051</td>\n",
       "      <td>2.029197</td>\n",
       "      <td>2.211679</td>\n",
       "      <td>1.116788</td>\n",
       "      <td>4.453533e+06</td>\n",
       "    </tr>\n",
       "    <tr>\n",
       "      <th>std</th>\n",
       "      <td>39.692569</td>\n",
       "      <td>39.315425</td>\n",
       "      <td>11.819729</td>\n",
       "      <td>0.496985</td>\n",
       "      <td>0.511567</td>\n",
       "      <td>2.910391</td>\n",
       "      <td>1.514900</td>\n",
       "      <td>1.032337</td>\n",
       "      <td>1.016462</td>\n",
       "      <td>1.209620</td>\n",
       "      <td>...</td>\n",
       "      <td>1.680887</td>\n",
       "      <td>5.536647</td>\n",
       "      <td>3.512093</td>\n",
       "      <td>5.230117</td>\n",
       "      <td>1.698540</td>\n",
       "      <td>5.165093</td>\n",
       "      <td>3.436272</td>\n",
       "      <td>4.168211</td>\n",
       "      <td>1.790768</td>\n",
       "      <td>2.576072e+06</td>\n",
       "    </tr>\n",
       "    <tr>\n",
       "      <th>min</th>\n",
       "      <td>0.000000</td>\n",
       "      <td>0.000000</td>\n",
       "      <td>0.000000</td>\n",
       "      <td>0.000000</td>\n",
       "      <td>0.000000</td>\n",
       "      <td>1.000000</td>\n",
       "      <td>1.000000</td>\n",
       "      <td>0.000000</td>\n",
       "      <td>3.000000</td>\n",
       "      <td>1.000000</td>\n",
       "      <td>...</td>\n",
       "      <td>0.000000</td>\n",
       "      <td>0.000000</td>\n",
       "      <td>0.000000</td>\n",
       "      <td>0.000000</td>\n",
       "      <td>0.000000</td>\n",
       "      <td>0.000000</td>\n",
       "      <td>0.000000</td>\n",
       "      <td>0.000000</td>\n",
       "      <td>0.000000</td>\n",
       "      <td>1.149870e+06</td>\n",
       "    </tr>\n",
       "    <tr>\n",
       "      <th>25%</th>\n",
       "      <td>34.000000</td>\n",
       "      <td>31.000000</td>\n",
       "      <td>8.000000</td>\n",
       "      <td>0.000000</td>\n",
       "      <td>1.000000</td>\n",
       "      <td>2.000000</td>\n",
       "      <td>4.000000</td>\n",
       "      <td>4.000000</td>\n",
       "      <td>4.000000</td>\n",
       "      <td>1.000000</td>\n",
       "      <td>...</td>\n",
       "      <td>2.500000</td>\n",
       "      <td>0.000000</td>\n",
       "      <td>0.000000</td>\n",
       "      <td>0.000000</td>\n",
       "      <td>0.000000</td>\n",
       "      <td>0.000000</td>\n",
       "      <td>0.000000</td>\n",
       "      <td>0.000000</td>\n",
       "      <td>0.000000</td>\n",
       "      <td>2.999068e+06</td>\n",
       "    </tr>\n",
       "    <tr>\n",
       "      <th>50%</th>\n",
       "      <td>68.000000</td>\n",
       "      <td>65.000000</td>\n",
       "      <td>26.000000</td>\n",
       "      <td>0.000000</td>\n",
       "      <td>1.000000</td>\n",
       "      <td>3.000000</td>\n",
       "      <td>5.000000</td>\n",
       "      <td>4.000000</td>\n",
       "      <td>4.000000</td>\n",
       "      <td>2.000000</td>\n",
       "      <td>...</td>\n",
       "      <td>3.000000</td>\n",
       "      <td>0.000000</td>\n",
       "      <td>0.000000</td>\n",
       "      <td>0.000000</td>\n",
       "      <td>0.000000</td>\n",
       "      <td>0.000000</td>\n",
       "      <td>0.000000</td>\n",
       "      <td>0.000000</td>\n",
       "      <td>0.000000</td>\n",
       "      <td>3.939804e+06</td>\n",
       "    </tr>\n",
       "    <tr>\n",
       "      <th>75%</th>\n",
       "      <td>102.000000</td>\n",
       "      <td>99.000000</td>\n",
       "      <td>31.000000</td>\n",
       "      <td>1.000000</td>\n",
       "      <td>2.000000</td>\n",
       "      <td>4.000000</td>\n",
       "      <td>5.000000</td>\n",
       "      <td>5.000000</td>\n",
       "      <td>5.000000</td>\n",
       "      <td>2.000000</td>\n",
       "      <td>...</td>\n",
       "      <td>3.000000</td>\n",
       "      <td>4.000000</td>\n",
       "      <td>3.000000</td>\n",
       "      <td>3.000000</td>\n",
       "      <td>2.000000</td>\n",
       "      <td>3.000000</td>\n",
       "      <td>4.000000</td>\n",
       "      <td>3.000000</td>\n",
       "      <td>2.000000</td>\n",
       "      <td>5.166635e+06</td>\n",
       "    </tr>\n",
       "    <tr>\n",
       "      <th>max</th>\n",
       "      <td>136.000000</td>\n",
       "      <td>133.000000</td>\n",
       "      <td>33.000000</td>\n",
       "      <td>1.000000</td>\n",
       "      <td>2.000000</td>\n",
       "      <td>12.000000</td>\n",
       "      <td>7.500000</td>\n",
       "      <td>7.500000</td>\n",
       "      <td>7.500000</td>\n",
       "      <td>8.000000</td>\n",
       "      <td>...</td>\n",
       "      <td>7.500000</td>\n",
       "      <td>25.000000</td>\n",
       "      <td>15.000000</td>\n",
       "      <td>25.000000</td>\n",
       "      <td>6.000000</td>\n",
       "      <td>24.000000</td>\n",
       "      <td>15.000000</td>\n",
       "      <td>20.000000</td>\n",
       "      <td>8.000000</td>\n",
       "      <td>1.969694e+07</td>\n",
       "    </tr>\n",
       "  </tbody>\n",
       "</table>\n",
       "<p>8 rows × 43 columns</p>\n",
       "</div>\n",
       "    <div class=\"colab-df-buttons\">\n",
       "\n",
       "  <div class=\"colab-df-container\">\n",
       "    <button class=\"colab-df-convert\" onclick=\"convertToInteractive('df-725caf27-4fda-4ae6-9aab-c9e5c7d14ad1')\"\n",
       "            title=\"Convert this dataframe to an interactive table.\"\n",
       "            style=\"display:none;\">\n",
       "\n",
       "  <svg xmlns=\"http://www.w3.org/2000/svg\" height=\"24px\" viewBox=\"0 -960 960 960\">\n",
       "    <path d=\"M120-120v-720h720v720H120Zm60-500h600v-160H180v160Zm220 220h160v-160H400v160Zm0 220h160v-160H400v160ZM180-400h160v-160H180v160Zm440 0h160v-160H620v160ZM180-180h160v-160H180v160Zm440 0h160v-160H620v160Z\"/>\n",
       "  </svg>\n",
       "    </button>\n",
       "\n",
       "  <style>\n",
       "    .colab-df-container {\n",
       "      display:flex;\n",
       "      gap: 12px;\n",
       "    }\n",
       "\n",
       "    .colab-df-convert {\n",
       "      background-color: #E8F0FE;\n",
       "      border: none;\n",
       "      border-radius: 50%;\n",
       "      cursor: pointer;\n",
       "      display: none;\n",
       "      fill: #1967D2;\n",
       "      height: 32px;\n",
       "      padding: 0 0 0 0;\n",
       "      width: 32px;\n",
       "    }\n",
       "\n",
       "    .colab-df-convert:hover {\n",
       "      background-color: #E2EBFA;\n",
       "      box-shadow: 0px 1px 2px rgba(60, 64, 67, 0.3), 0px 1px 3px 1px rgba(60, 64, 67, 0.15);\n",
       "      fill: #174EA6;\n",
       "    }\n",
       "\n",
       "    .colab-df-buttons div {\n",
       "      margin-bottom: 4px;\n",
       "    }\n",
       "\n",
       "    [theme=dark] .colab-df-convert {\n",
       "      background-color: #3B4455;\n",
       "      fill: #D2E3FC;\n",
       "    }\n",
       "\n",
       "    [theme=dark] .colab-df-convert:hover {\n",
       "      background-color: #434B5C;\n",
       "      box-shadow: 0px 1px 3px 1px rgba(0, 0, 0, 0.15);\n",
       "      filter: drop-shadow(0px 1px 2px rgba(0, 0, 0, 0.3));\n",
       "      fill: #FFFFFF;\n",
       "    }\n",
       "  </style>\n",
       "\n",
       "    <script>\n",
       "      const buttonEl =\n",
       "        document.querySelector('#df-725caf27-4fda-4ae6-9aab-c9e5c7d14ad1 button.colab-df-convert');\n",
       "      buttonEl.style.display =\n",
       "        google.colab.kernel.accessAllowed ? 'block' : 'none';\n",
       "\n",
       "      async function convertToInteractive(key) {\n",
       "        const element = document.querySelector('#df-725caf27-4fda-4ae6-9aab-c9e5c7d14ad1');\n",
       "        const dataTable =\n",
       "          await google.colab.kernel.invokeFunction('convertToInteractive',\n",
       "                                                    [key], {});\n",
       "        if (!dataTable) return;\n",
       "\n",
       "        const docLinkHtml = 'Like what you see? Visit the ' +\n",
       "          '<a target=\"_blank\" href=https://colab.research.google.com/notebooks/data_table.ipynb>data table notebook</a>'\n",
       "          + ' to learn more about interactive tables.';\n",
       "        element.innerHTML = '';\n",
       "        dataTable['output_type'] = 'display_data';\n",
       "        await google.colab.output.renderOutput(dataTable, element);\n",
       "        const docLink = document.createElement('div');\n",
       "        docLink.innerHTML = docLinkHtml;\n",
       "        element.appendChild(docLink);\n",
       "      }\n",
       "    </script>\n",
       "  </div>\n",
       "\n",
       "\n",
       "<div id=\"df-b436142d-7150-4ee6-9f4d-748981f81723\">\n",
       "  <button class=\"colab-df-quickchart\" onclick=\"quickchart('df-b436142d-7150-4ee6-9f4d-748981f81723')\"\n",
       "            title=\"Suggest charts\"\n",
       "            style=\"display:none;\">\n",
       "\n",
       "<svg xmlns=\"http://www.w3.org/2000/svg\" height=\"24px\"viewBox=\"0 0 24 24\"\n",
       "     width=\"24px\">\n",
       "    <g>\n",
       "        <path d=\"M19 3H5c-1.1 0-2 .9-2 2v14c0 1.1.9 2 2 2h14c1.1 0 2-.9 2-2V5c0-1.1-.9-2-2-2zM9 17H7v-7h2v7zm4 0h-2V7h2v10zm4 0h-2v-4h2v4z\"/>\n",
       "    </g>\n",
       "</svg>\n",
       "  </button>\n",
       "\n",
       "<style>\n",
       "  .colab-df-quickchart {\n",
       "      --bg-color: #E8F0FE;\n",
       "      --fill-color: #1967D2;\n",
       "      --hover-bg-color: #E2EBFA;\n",
       "      --hover-fill-color: #174EA6;\n",
       "      --disabled-fill-color: #AAA;\n",
       "      --disabled-bg-color: #DDD;\n",
       "  }\n",
       "\n",
       "  [theme=dark] .colab-df-quickchart {\n",
       "      --bg-color: #3B4455;\n",
       "      --fill-color: #D2E3FC;\n",
       "      --hover-bg-color: #434B5C;\n",
       "      --hover-fill-color: #FFFFFF;\n",
       "      --disabled-bg-color: #3B4455;\n",
       "      --disabled-fill-color: #666;\n",
       "  }\n",
       "\n",
       "  .colab-df-quickchart {\n",
       "    background-color: var(--bg-color);\n",
       "    border: none;\n",
       "    border-radius: 50%;\n",
       "    cursor: pointer;\n",
       "    display: none;\n",
       "    fill: var(--fill-color);\n",
       "    height: 32px;\n",
       "    padding: 0;\n",
       "    width: 32px;\n",
       "  }\n",
       "\n",
       "  .colab-df-quickchart:hover {\n",
       "    background-color: var(--hover-bg-color);\n",
       "    box-shadow: 0 1px 2px rgba(60, 64, 67, 0.3), 0 1px 3px 1px rgba(60, 64, 67, 0.15);\n",
       "    fill: var(--button-hover-fill-color);\n",
       "  }\n",
       "\n",
       "  .colab-df-quickchart-complete:disabled,\n",
       "  .colab-df-quickchart-complete:disabled:hover {\n",
       "    background-color: var(--disabled-bg-color);\n",
       "    fill: var(--disabled-fill-color);\n",
       "    box-shadow: none;\n",
       "  }\n",
       "\n",
       "  .colab-df-spinner {\n",
       "    border: 2px solid var(--fill-color);\n",
       "    border-color: transparent;\n",
       "    border-bottom-color: var(--fill-color);\n",
       "    animation:\n",
       "      spin 1s steps(1) infinite;\n",
       "  }\n",
       "\n",
       "  @keyframes spin {\n",
       "    0% {\n",
       "      border-color: transparent;\n",
       "      border-bottom-color: var(--fill-color);\n",
       "      border-left-color: var(--fill-color);\n",
       "    }\n",
       "    20% {\n",
       "      border-color: transparent;\n",
       "      border-left-color: var(--fill-color);\n",
       "      border-top-color: var(--fill-color);\n",
       "    }\n",
       "    30% {\n",
       "      border-color: transparent;\n",
       "      border-left-color: var(--fill-color);\n",
       "      border-top-color: var(--fill-color);\n",
       "      border-right-color: var(--fill-color);\n",
       "    }\n",
       "    40% {\n",
       "      border-color: transparent;\n",
       "      border-right-color: var(--fill-color);\n",
       "      border-top-color: var(--fill-color);\n",
       "    }\n",
       "    60% {\n",
       "      border-color: transparent;\n",
       "      border-right-color: var(--fill-color);\n",
       "    }\n",
       "    80% {\n",
       "      border-color: transparent;\n",
       "      border-right-color: var(--fill-color);\n",
       "      border-bottom-color: var(--fill-color);\n",
       "    }\n",
       "    90% {\n",
       "      border-color: transparent;\n",
       "      border-bottom-color: var(--fill-color);\n",
       "    }\n",
       "  }\n",
       "</style>\n",
       "\n",
       "  <script>\n",
       "    async function quickchart(key) {\n",
       "      const quickchartButtonEl =\n",
       "        document.querySelector('#' + key + ' button');\n",
       "      quickchartButtonEl.disabled = true;  // To prevent multiple clicks.\n",
       "      quickchartButtonEl.classList.add('colab-df-spinner');\n",
       "      try {\n",
       "        const charts = await google.colab.kernel.invokeFunction(\n",
       "            'suggestCharts', [key], {});\n",
       "      } catch (error) {\n",
       "        console.error('Error during call to suggestCharts:', error);\n",
       "      }\n",
       "      quickchartButtonEl.classList.remove('colab-df-spinner');\n",
       "      quickchartButtonEl.classList.add('colab-df-quickchart-complete');\n",
       "    }\n",
       "    (() => {\n",
       "      let quickchartButtonEl =\n",
       "        document.querySelector('#df-b436142d-7150-4ee6-9f4d-748981f81723 button');\n",
       "      quickchartButtonEl.style.display =\n",
       "        google.colab.kernel.accessAllowed ? 'block' : 'none';\n",
       "    })();\n",
       "  </script>\n",
       "</div>\n",
       "    </div>\n",
       "  </div>\n"
      ],
      "application/vnd.google.colaboratory.intrinsic+json": {
       "type": "dataframe"
      }
     },
     "metadata": {},
     "execution_count": 17
    }
   ]
  },
  {
   "cell_type": "code",
   "source": [
    "correlation_matrix = train_data.corr().abs()\n",
    "mask = np.triu(np.ones_like(correlation_matrix, dtype=bool))\n",
    "correlation_pairs = (correlation_matrix.mask(mask) >= 0.9).stack()\n",
    "features_to_drop = set([pair[1] for pair in correlation_pairs[correlation_pairs].index])\n",
    "train_data.drop(columns=features_to_drop, inplace=True)\n",
    "train_data = train_data.drop(columns=['Open Date'])\n",
    "train_data.columns.to_series().to_csv('column_names.csv', index=False, header=True)"
   ],
   "metadata": {
    "id": "ynDFFSIpEeN7"
   },
   "execution_count": 18,
   "outputs": []
  },
  {
   "cell_type": "code",
   "source": [
    "X = train_data.drop(columns=['revenue'], axis=1)\n",
    "Y = train_data[\"revenue\"]\n",
    "x = train_data.iloc[:,:-1]\n",
    "y = train_data.iloc[:,-1]"
   ],
   "metadata": {
    "id": "SjujOSUqHi06"
   },
   "execution_count": 19,
   "outputs": []
  },
  {
   "cell_type": "code",
   "source": [
    "f, ax = plt.subplots(figsize=(10, 8))\n",
    "corr = X.corr()\n",
    "sns.heatmap(corr, mask=np.zeros_like(corr, dtype=np.bool_),\n",
    "            cmap=sns.diverging_palette(220, 10, as_cmap=True),\n",
    "            square=True, ax=ax)"
   ],
   "metadata": {
    "colab": {
     "base_uri": "https://localhost:8080/",
     "height": 759
    },
    "id": "jijsBjrB7xOf",
    "outputId": "2e504366-dece-43a0-cb63-029cc0fa64d7"
   },
   "execution_count": 20,
   "outputs": [
    {
     "output_type": "execute_result",
     "data": {
      "text/plain": [
       "<Axes: >"
      ]
     },
     "metadata": {},
     "execution_count": 20
    },
    {
     "output_type": "display_data",
     "data": {
      "text/plain": [
       "<Figure size 1000x800 with 2 Axes>"
      ],
      "image/png": "[encoded data removed]"
     },
     "metadata": {}
    }
   ]
  },
  {
   "cell_type": "code",
   "source": [
    "x_train, X_valid, y_train, Y_valid = train_test_split(x, y, test_size=0.2, random_state=10)"
   ],
   "metadata": {
    "id": "IvyOAjbEGPxJ"
   },
   "execution_count": 21,
   "outputs": []
  },
  {
   "cell_type": "markdown",
   "source": [
    "Мною был выбран XGBoost, так как он использует более сложные методы обучения, такие как градиентный бустинг, что позволяет ему находить оптимальные веса для каждого дерева в ансамбле. Это может привести к более точным прогнозам."
   ],
   "metadata": {
    "id": "8vbRxCPh5FEL"
   }
  },
  {
   "cell_type": "code",
   "source": [
    "params_xgb = {\n",
    "    'learning_rate': [.1, .5, .7, .9, .95, .99, 1],\n",
    "    'colsample_bytree': [.3, .4, .5, .6],\n",
    "    'max_depth': [4],\n",
    "    'alpha': [3],\n",
    "    'subsample': [.5],\n",
    "    'n_estimators': [30, 70, 100, 200]\n",
    "}\n",
    "\n",
    "xgb_model = XGBRegressor()\n",
    "xgb_regressor = RandomizedSearchCV(xgb_model, params_xgb, scoring='neg_root_mean_squared_error', cv = 10, n_jobs = -1)\n",
    "xgb_regressor.fit(x_train, y_train)\n",
    "print(f'Optimal lr: {xgb_regressor.best_params_[\"learning_rate\"]}')\n",
    "print(f'Optimal colsample_bytree: {xgb_regressor.best_params_[\"colsample_bytree\"]}')\n",
    "print(f'Optimal n_estimators: {xgb_regressor.best_params_[\"n_estimators\"]}')\n",
    "print(f'Best score: {xgb_regressor.best_score_}')"
   ],
   "metadata": {
    "colab": {
     "base_uri": "https://localhost:8080/"
    },
    "id": "3DqDL99StCTf",
    "outputId": "cbe3386c-3125-43ca-fab7-b3bd9dad4c06"
   },
   "execution_count": 22,
   "outputs": [
    {
     "output_type": "stream",
     "name": "stderr",
     "text": [
      "/usr/local/lib/python3.10/dist-packages/joblib/externals/loky/backend/fork_exec.py:38: RuntimeWarning: os.fork() was called. os.fork() is incompatible with multithreaded code, and JAX is multithreaded, so this will likely lead to a deadlock.\n",
      "  pid = os.fork()\n"
     ]
    },
    {
     "output_type": "stream",
     "name": "stdout",
     "text": [
      "Optimal lr: 0.1\n",
      "Optimal colsample_bytree: 0.6\n",
      "Optimal n_estimators: 30\n",
      "Best score: -2108465.6301474506\n"
     ]
    }
   ]
  },
  {
   "cell_type": "code",
   "source": [
    "xgb_model = XGBRegressor(learning_rate=xgb_regressor.best_params_[\"learning_rate\"],\n",
    "                         colsample_bytree=xgb_regressor.best_params_[\"colsample_bytree\"],\n",
    "                         max_depth=4, alpha=3, subsample=.5,\n",
    "                         n_estimators=xgb_regressor.best_params_[\"n_estimators\"], n_jobs=-1)\n",
    "xgb_model.fit(x_train, y_train)\n",
    "y_train_pred = xgb_model.predict(x_train)\n",
    "y_pred = xgb_model.predict(X_valid)\n",
    "print('Train r2 score: ', r2_score(y_train_pred, y_train))\n",
    "print('Test r2 score: ', r2_score(Y_valid, y_pred))\n",
    "train_rmse = np.sqrt(mean_squared_error(y_train_pred, y_train))\n",
    "test_rmse = np.sqrt(mean_squared_error(Y_valid, y_pred))\n",
    "print(f'Train RMSE: {train_rmse:.4f}')\n",
    "print(f'Test RMSE: {test_rmse:.4f}')"
   ],
   "metadata": {
    "colab": {
     "base_uri": "https://localhost:8080/"
    },
    "id": "b4cxqm9gyLcA",
    "outputId": "d8c7145c-b735-47e7-fe7c-c018856aff52"
   },
   "execution_count": 23,
   "outputs": [
    {
     "output_type": "stream",
     "name": "stdout",
     "text": [
      "Train r2 score:  0.27634542569386145\n",
      "Test r2 score:  0.07077903626391835\n",
      "Train RMSE: 1219465.2257\n",
      "Test RMSE: 2852725.0283\n"
     ]
    }
   ]
  },
  {
   "cell_type": "code",
   "source": [
    "plt.figure(figsize=(10, 6))\n",
    "plt.scatter(y_train, y_train_pred, color='blue', label='Predicted vs. Actual (Training)')\n",
    "plt.plot([min(y_train), max(y_train)], [min(y_train), max(y_train)], color='red', linestyle='--')\n",
    "plt.xlabel('Actual')\n",
    "plt.ylabel('Predicted')\n",
    "plt.title('Predicted vs. Actual (Training)')\n",
    "plt.legend()\n",
    "plt.show()\n",
    "\n",
    "plt.figure(figsize=(10, 6))\n",
    "plt.scatter(Y_valid, y_pred, color='green', label='Predicted vs. Actual (Validation)')\n",
    "plt.plot([min(Y_valid), max(Y_valid)], [min(Y_valid), max(Y_valid)], color='purple', linestyle='--')\n",
    "plt.xlabel('Actual')\n",
    "plt.ylabel('Predicted')\n",
    "plt.title('Predicted vs. Actual (Validation)')\n",
    "plt.legend()\n",
    "plt.show()\n"
   ],
   "metadata": {
    "colab": {
     "base_uri": "https://localhost:8080/",
     "height": 1000
    },
    "id": "Hze2Aph1qm3Q",
    "outputId": "f4a677eb-3393-40a9-8c6b-d922f86e06e2"
   },
   "execution_count": 24,
   "outputs": [
    {
     "output_type": "display_data",
     "data": {
      "text/plain": [
       "<Figure size 1000x600 with 1 Axes>"
      ],
      "image/png": "[encoded data removed]"
     },
     "metadata": {}
    },
    {
     "output_type": "display_data",
     "data": {
      "text/plain": [
       "<Figure size 1000x600 with 1 Axes>"
      ],
      "image/png": "[encoded data removed]"
     },
     "metadata": {}
    }
   ]
  },
  {
   "cell_type": "code",
   "source": [
    "filename = 'model.sav'\n",
    "pickle.dump(xgb_model, open(filename, 'wb'))"
   ],
   "metadata": {
    "id": "thjHTWbVvx7G"
   },
   "execution_count": 44,
   "outputs": []
  },
  {
   "cell_type": "code",
   "source": [
    "plt.bar(range(len(xgb_model.feature_importances_)), xgb_model.feature_importances_)\n",
    "plt.show()"
   ],
   "metadata": {
    "colab": {
     "base_uri": "https://localhost:8080/",
     "height": 430
    },
    "id": "_NDhwPUc7D0D",
    "outputId": "4f50f1f4-835f-44e8-e0cf-80460d6e09ce"
   },
   "execution_count": 24,
   "outputs": [
    {
     "output_type": "display_data",
     "data": {
      "text/plain": [
       "<Figure size 640x480 with 1 Axes>"
      ],
      "image/png": "[encoded data removed]"
     },
     "metadata": {}
    }
   ]
  },
  {
   "cell_type": "code",
   "source": [
    "model=Sequential()\n",
    "model.add(Dense(units=20,input_dim=28,activation=\"tanh\"))\n",
    "model.add(Dense(units=20,activation=\"relu\"))\n",
    "model.add(Dense(units=20,activation=\"relu\"))\n",
    "model.add(Dense(1))"
   ],
   "metadata": {
    "id": "58eZzxYAb1E1"
   },
   "execution_count": 25,
   "outputs": []
  },
  {
   "cell_type": "code",
   "source": [
    "model.compile(loss='mse', optimizer=Adam(learning_rate=0.001), metrics=['RootMeanSquaredError'])"
   ],
   "metadata": {
    "id": "ehzqd34wcQCk"
   },
   "execution_count": 26,
   "outputs": []
  },
  {
   "cell_type": "code",
   "source": [
    "model.summary()"
   ],
   "metadata": {
    "colab": {
     "base_uri": "https://localhost:8080/"
    },
    "id": "k45VOZ13fCC9",
    "outputId": "c91b0a3f-d13e-4153-8fb1-53ff0f3b910a"
   },
   "execution_count": 27,
   "outputs": [
    {
     "output_type": "stream",
     "name": "stdout",
     "text": [
      "Model: \"sequential\"\n",
      "_________________________________________________________________\n",
      " Layer (type)                Output Shape              Param #   \n",
      "=================================================================\n",
      " dense (Dense)               (None, 10)                290       \n",
      "                                                                 \n",
      " dense_1 (Dense)             (None, 10)                110       \n",
      "                                                                 \n",
      " dense_2 (Dense)             (None, 10)                110       \n",
      "                                                                 \n",
      " dense_3 (Dense)             (None, 1)                 11        \n",
      "                                                                 \n",
      "=================================================================\n",
      "Total params: 521 (2.04 KB)\n",
      "Trainable params: 521 (2.04 KB)\n",
      "Non-trainable params: 0 (0.00 Byte)\n",
      "_________________________________________________________________\n"
     ]
    }
   ]
  },
  {
   "cell_type": "markdown",
   "source": [
    "**Как можно видеть, количество настраиваемых парамаетров в простейшей нейронной сети равно 521. Тестовых данных меньше , чем настраиваемых параметров, значит обучить такую нейронную сеть не представляется возможным.**"
   ],
   "metadata": {
    "id": "IAt-RZWZ5gHV"
   }
  },
  {
   "cell_type": "code",
   "source": [
    "model.fit(x_train, y_train, epochs=50, validation_data=(X_valid, Y_valid))"
   ],
   "metadata": {
    "colab": {
     "base_uri": "https://localhost:8080/"
    },
    "id": "8cJO9OuQcTQp",
    "outputId": "55be542a-5343-44dd-a712-7b61d8740bbd"
   },
   "execution_count": null,
   "outputs": [
    {
     "output_type": "stream",
     "name": "stdout",
     "text": [
      "Epoch 1/50\n",
      "4/4 [==============================] - 1s 71ms/step - loss: 24617141927936.0000 - root_mean_squared_error: 4961566.5000 - val_loss: 33446372048896.0000 - val_root_mean_squared_error: 5783284.0000\n",
      "Epoch 2/50\n",
      "4/4 [==============================] - 0s 13ms/step - loss: 24617139830784.0000 - root_mean_squared_error: 4961566.5000 - val_loss: 33446367854592.0000 - val_root_mean_squared_error: 5783283.5000\n",
      "Epoch 3/50\n",
      "4/4 [==============================] - 0s 13ms/step - loss: 24617139830784.0000 - root_mean_squared_error: 4961566.5000 - val_loss: 33446365757440.0000 - val_root_mean_squared_error: 5783283.5000\n",
      "Epoch 4/50\n",
      "4/4 [==============================] - 0s 18ms/step - loss: 24617131442176.0000 - root_mean_squared_error: 4961565.5000 - val_loss: 33446363660288.0000 - val_root_mean_squared_error: 5783283.0000\n",
      "Epoch 5/50\n",
      "4/4 [==============================] - 0s 13ms/step - loss: 24617129345024.0000 - root_mean_squared_error: 4961565.0000 - val_loss: 33446359465984.0000 - val_root_mean_squared_error: 5783283.0000\n",
      "Epoch 6/50\n",
      "4/4 [==============================] - 0s 13ms/step - loss: 24617127247872.0000 - root_mean_squared_error: 4961565.0000 - val_loss: 33446353174528.0000 - val_root_mean_squared_error: 5783282.0000\n",
      "Epoch 7/50\n",
      "4/4 [==============================] - 0s 28ms/step - loss: 24617123053568.0000 - root_mean_squared_error: 4961564.5000 - val_loss: 33446351077376.0000 - val_root_mean_squared_error: 5783282.0000\n",
      "Epoch 8/50\n",
      "4/4 [==============================] - 0s 25ms/step - loss: 24617116762112.0000 - root_mean_squared_error: 4961564.0000 - val_loss: 33446342688768.0000 - val_root_mean_squared_error: 5783281.5000\n",
      "Epoch 9/50\n",
      "4/4 [==============================] - 0s 29ms/step - loss: 24617114664960.0000 - root_mean_squared_error: 4961563.5000 - val_loss: 33446334300160.0000 - val_root_mean_squared_error: 5783280.5000\n",
      "Epoch 10/50\n",
      "4/4 [==============================] - 0s 28ms/step - loss: 24617108373504.0000 - root_mean_squared_error: 4961563.0000 - val_loss: 33446330105856.0000 - val_root_mean_squared_error: 5783280.0000\n",
      "Epoch 11/50\n",
      "4/4 [==============================] - 0s 27ms/step - loss: 24617099984896.0000 - root_mean_squared_error: 4961562.5000 - val_loss: 33446319620096.0000 - val_root_mean_squared_error: 5783279.5000\n",
      "Epoch 12/50\n",
      "4/4 [==============================] - 0s 26ms/step - loss: 24617089499136.0000 - root_mean_squared_error: 4961561.0000 - val_loss: 33446309134336.0000 - val_root_mean_squared_error: 5783278.5000\n",
      "Epoch 13/50\n",
      "4/4 [==============================] - 0s 24ms/step - loss: 24617085304832.0000 - root_mean_squared_error: 4961561.0000 - val_loss: 33446298648576.0000 - val_root_mean_squared_error: 5783277.5000\n",
      "Epoch 14/50\n",
      "4/4 [==============================] - 0s 25ms/step - loss: 24617074819072.0000 - root_mean_squared_error: 4961559.5000 - val_loss: 33446283968512.0000 - val_root_mean_squared_error: 5783276.0000\n",
      "Epoch 15/50\n",
      "4/4 [==============================] - 0s 25ms/step - loss: 24617062236160.0000 - root_mean_squared_error: 4961558.5000 - val_loss: 33446269288448.0000 - val_root_mean_squared_error: 5783275.0000\n",
      "Epoch 16/50\n",
      "4/4 [==============================] - 0s 24ms/step - loss: 24617047556096.0000 - root_mean_squared_error: 4961557.0000 - val_loss: 33446254608384.0000 - val_root_mean_squared_error: 5783273.5000\n",
      "Epoch 17/50\n",
      "4/4 [==============================] - 0s 21ms/step - loss: 24617037070336.0000 - root_mean_squared_error: 4961556.0000 - val_loss: 33446235734016.0000 - val_root_mean_squared_error: 5783272.0000\n",
      "Epoch 18/50\n",
      "4/4 [==============================] - 0s 29ms/step - loss: 24617018195968.0000 - root_mean_squared_error: 4961554.0000 - val_loss: 33446214762496.0000 - val_root_mean_squared_error: 5783270.0000\n",
      "Epoch 19/50\n",
      "4/4 [==============================] - 0s 23ms/step - loss: 24617003515904.0000 - root_mean_squared_error: 4961552.5000 - val_loss: 33446189596672.0000 - val_root_mean_squared_error: 5783268.0000\n",
      "Epoch 20/50\n",
      "4/4 [==============================] - 0s 20ms/step - loss: 24616978350080.0000 - root_mean_squared_error: 4961550.0000 - val_loss: 33446166528000.0000 - val_root_mean_squared_error: 5783266.0000\n",
      "Epoch 21/50\n",
      "4/4 [==============================] - 0s 25ms/step - loss: 24616959475712.0000 - root_mean_squared_error: 4961548.0000 - val_loss: 33446137167872.0000 - val_root_mean_squared_error: 5783263.5000\n",
      "Epoch 22/50\n",
      "4/4 [==============================] - 0s 25ms/step - loss: 24616934309888.0000 - root_mean_squared_error: 4961545.5000 - val_loss: 33446107807744.0000 - val_root_mean_squared_error: 5783261.0000\n",
      "Epoch 23/50\n",
      "4/4 [==============================] - 0s 27ms/step - loss: 24616907046912.0000 - root_mean_squared_error: 4961543.0000 - val_loss: 33446078447616.0000 - val_root_mean_squared_error: 5783258.5000\n",
      "Epoch 24/50\n",
      "4/4 [==============================] - 0s 27ms/step - loss: 24616877686784.0000 - root_mean_squared_error: 4961540.0000 - val_loss: 33446038601728.0000 - val_root_mean_squared_error: 5783255.0000\n",
      "Epoch 25/50\n",
      "4/4 [==============================] - 0s 28ms/step - loss: 24616846229504.0000 - root_mean_squared_error: 4961536.5000 - val_loss: 33445998755840.0000 - val_root_mean_squared_error: 5783251.5000\n",
      "Epoch 26/50\n",
      "4/4 [==============================] - 0s 22ms/step - loss: 24616812675072.0000 - root_mean_squared_error: 4961533.5000 - val_loss: 33445956812800.0000 - val_root_mean_squared_error: 5783248.0000\n",
      "Epoch 27/50\n",
      "4/4 [==============================] - 0s 21ms/step - loss: 24616774926336.0000 - root_mean_squared_error: 4961529.5000 - val_loss: 33445912772608.0000 - val_root_mean_squared_error: 5783244.0000\n",
      "Epoch 28/50\n",
      "4/4 [==============================] - 0s 21ms/step - loss: 24616735080448.0000 - root_mean_squared_error: 4961525.5000 - val_loss: 33445862440960.0000 - val_root_mean_squared_error: 5783240.0000\n",
      "Epoch 29/50\n",
      "4/4 [==============================] - 0s 23ms/step - loss: 24616691040256.0000 - root_mean_squared_error: 4961521.0000 - val_loss: 33445805817856.0000 - val_root_mean_squared_error: 5783235.0000\n",
      "Epoch 30/50\n",
      "4/4 [==============================] - 0s 25ms/step - loss: 24616644902912.0000 - root_mean_squared_error: 4961516.5000 - val_loss: 33445753389056.0000 - val_root_mean_squared_error: 5783230.5000\n",
      "Epoch 31/50\n",
      "4/4 [==============================] - 0s 24ms/step - loss: 24616592474112.0000 - root_mean_squared_error: 4961511.0000 - val_loss: 33445692571648.0000 - val_root_mean_squared_error: 5783225.0000\n",
      "Epoch 32/50\n",
      "4/4 [==============================] - 0s 21ms/step - loss: 24616540045312.0000 - root_mean_squared_error: 4961506.0000 - val_loss: 33445629657088.0000 - val_root_mean_squared_error: 5783219.5000\n",
      "Epoch 33/50\n",
      "4/4 [==============================] - 0s 27ms/step - loss: 24616481325056.0000 - root_mean_squared_error: 4961500.0000 - val_loss: 33445558353920.0000 - val_root_mean_squared_error: 5783213.5000\n",
      "Epoch 34/50\n",
      "4/4 [==============================] - 0s 19ms/step - loss: 24616422604800.0000 - root_mean_squared_error: 4961494.0000 - val_loss: 33445484953600.0000 - val_root_mean_squared_error: 5783207.0000\n",
      "Epoch 35/50\n",
      "4/4 [==============================] - 0s 25ms/step - loss: 24616353398784.0000 - root_mean_squared_error: 4961487.0000 - val_loss: 33445403164672.0000 - val_root_mean_squared_error: 5783200.0000\n",
      "Epoch 36/50\n",
      "4/4 [==============================] - 0s 24ms/step - loss: 24616284192768.0000 - root_mean_squared_error: 4961480.0000 - val_loss: 33445323472896.0000 - val_root_mean_squared_error: 5783193.0000\n",
      "Epoch 37/50\n",
      "4/4 [==============================] - 0s 17ms/step - loss: 24616210792448.0000 - root_mean_squared_error: 4961472.5000 - val_loss: 33445235392512.0000 - val_root_mean_squared_error: 5783185.5000\n",
      "Epoch 38/50\n",
      "4/4 [==============================] - 0s 23ms/step - loss: 24616133197824.0000 - root_mean_squared_error: 4961465.0000 - val_loss: 33445145214976.0000 - val_root_mean_squared_error: 5783178.0000\n",
      "Epoch 39/50\n",
      "4/4 [==============================] - 0s 24ms/step - loss: 24616049311744.0000 - root_mean_squared_error: 4961456.5000 - val_loss: 33445046648832.0000 - val_root_mean_squared_error: 5783169.5000\n",
      "Epoch 40/50\n",
      "4/4 [==============================] - 0s 20ms/step - loss: 24615967522816.0000 - root_mean_squared_error: 4961448.0000 - val_loss: 33444945985536.0000 - val_root_mean_squared_error: 5783160.5000\n",
      "Epoch 41/50\n",
      "4/4 [==============================] - 0s 25ms/step - loss: 24615879442432.0000 - root_mean_squared_error: 4961439.5000 - val_loss: 33444839030784.0000 - val_root_mean_squared_error: 5783151.5000\n",
      "Epoch 42/50\n",
      "4/4 [==============================] - 0s 26ms/step - loss: 24615782973440.0000 - root_mean_squared_error: 4961429.5000 - val_loss: 33444727881728.0000 - val_root_mean_squared_error: 5783141.5000\n",
      "Epoch 43/50\n",
      "4/4 [==============================] - 0s 29ms/step - loss: 24615684407296.0000 - root_mean_squared_error: 4961419.5000 - val_loss: 33444608344064.0000 - val_root_mean_squared_error: 5783131.5000\n",
      "Epoch 44/50\n",
      "4/4 [==============================] - 0s 31ms/step - loss: 24615575355392.0000 - root_mean_squared_error: 4961408.5000 - val_loss: 33444488806400.0000 - val_root_mean_squared_error: 5783121.0000\n",
      "Epoch 45/50\n",
      "4/4 [==============================] - 0s 24ms/step - loss: 24615466303488.0000 - root_mean_squared_error: 4961397.5000 - val_loss: 33444356685824.0000 - val_root_mean_squared_error: 5783109.5000\n",
      "Epoch 46/50\n",
      "4/4 [==============================] - 0s 27ms/step - loss: 24615353057280.0000 - root_mean_squared_error: 4961386.0000 - val_loss: 33444220370944.0000 - val_root_mean_squared_error: 5783098.0000\n",
      "Epoch 47/50\n",
      "4/4 [==============================] - 0s 26ms/step - loss: 24615231422464.0000 - root_mean_squared_error: 4961374.0000 - val_loss: 33444073570304.0000 - val_root_mean_squared_error: 5783085.0000\n",
      "Epoch 48/50\n",
      "4/4 [==============================] - 0s 25ms/step - loss: 24615107690496.0000 - root_mean_squared_error: 4961361.5000 - val_loss: 33443924672512.0000 - val_root_mean_squared_error: 5783072.5000\n",
      "Epoch 49/50\n",
      "4/4 [==============================] - 0s 26ms/step - loss: 24614969278464.0000 - root_mean_squared_error: 4961347.5000 - val_loss: 33443765288960.0000 - val_root_mean_squared_error: 5783058.5000\n",
      "Epoch 50/50\n",
      "4/4 [==============================] - 0s 19ms/step - loss: 24614830866432.0000 - root_mean_squared_error: 4961333.5000 - val_loss: 33443601711104.0000 - val_root_mean_squared_error: 5783044.5000\n"
     ]
    },
    {
     "output_type": "execute_result",
     "data": {
      "text/plain": [
       "<keras.src.callbacks.History at 0x7a42351492a0>"
      ]
     },
     "metadata": {},
     "execution_count": 183
    }
   ]
  },
  {
   "cell_type": "code",
   "source": [
    "mse, rmse = model.evaluate(X_valid, Y_valid)\n",
    "print(rmse)\n",
    "print(mse)"
   ],
   "metadata": {
    "colab": {
     "base_uri": "https://localhost:8080/"
    },
    "id": "8z47Vd_2cWuE",
    "outputId": "662e9e68-b5af-4b59-cb5a-3c303050133e"
   },
   "execution_count": null,
   "outputs": [
    {
     "output_type": "stream",
     "name": "stdout",
     "text": [
      "1/1 [==============================] - 0s 32ms/step - loss: 33443601711104.0000 - root_mean_squared_error: 5783044.5000\n",
      "5783044.5\n",
      "33443601711104.0\n"
     ]
    }
   ]
  },
  {
   "cell_type": "markdown",
   "source": [
    "**Для улучшения качества можно попробовать использовать автоенкодерную нейронную сеть для более эффективного feauture selection.**\n"
   ],
   "metadata": {
    "id": "xMOcojnI5vMT"
   }
  }
 ]
}
